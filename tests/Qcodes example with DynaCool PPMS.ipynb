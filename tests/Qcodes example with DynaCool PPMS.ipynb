{
 "cells": [
  {
   "cell_type": "markdown",
   "metadata": {},
   "source": [
    "# QCoDeS Example with DynaCool PPMS\n",
    "\n",
    "This notebook explains how to control the DynaCool PPMS from QCoDeS.\n",
    "\n",
    "For this setup to work, the proprietary `PPMS Dynacool` application (or, alternatively `Simulate PPMS Dynacool`) must be running on some PC. On that same PC, the `server.py` script (found in `qcodes/instrument_drivers/QuantumDesign/DynaCoolPPMS/private`) must be running. The script can be run from the command line with no arguments and will run under python 3.6+.\n",
    "\n",
    "The architecture is as follows:\n",
    "\n",
    "The QCoDeS driver sends strings via VISA to the server who passes those same strings on to the `CommandHandler` (found in `qcodes/instrument_drivers/QuantumDesign/DynaCoolPPMS/commandhandler`). The `CommandHandler` makes the calls into the proprietary API. The QCoDeS driver can thus be called on any machine that can communicate with the machine hosting the server.\n",
    "\n",
    "Apart from that, the driver is really simple. For this notebook, we used the `Simulate PPMS Dynacool` application running on the same machine as QCoDeS."
   ]
  },
  {
   "cell_type": "code",
   "execution_count": 1,
   "metadata": {},
   "outputs": [],
   "source": [
    "%matplotlib notebook\n",
    "# from qcodes.instrument_drivers.QuantumDesign import DynaCool\n",
    "from qcodes.instrument_drivers.QuantumDesign.PPMS_mod import PPMS"
   ]
  },
  {
   "cell_type": "markdown",
   "metadata": {},
   "source": [
    "To instantiate the driver, simply provide the address and port in the standard VISA format.\n",
    "The connect message is not too pretty, but there does not seem to be a way to query serial and firmware versions."
   ]
  },
  {
   "cell_type": "code",
   "execution_count": 2,
   "metadata": {},
   "outputs": [],
   "source": [
    "dynacool = PPMS('ppms', 'tcp://localhost:29270')"
   ]
  },
  {
   "cell_type": "markdown",
   "metadata": {},
   "source": [
    "To get an overview over all available parameters, use `print_readable_snapshot`.\n",
    "\n",
    "A value of \"Not available\" means (for this driver) that the parameter has been deprecated."
   ]
  },
  {
   "cell_type": "code",
   "execution_count": null,
   "metadata": {},
   "outputs": [],
   "source": [
    "dynacool.print_readable_snapshot(update=True)"
   ]
  },
  {
   "cell_type": "markdown",
   "metadata": {},
   "source": [
    "## Temperature Control\n",
    "\n",
    "As soon as ANY of the temperature rate, the temperature setpoint, or the temperature settling mode parameters has been set, the system will start moving to the given temperature setpoint at the given rate using the given settling mode.\n",
    "\n",
    "The system can continuously be queried for its temperature."
   ]
  },
  {
   "cell_type": "code",
   "execution_count": null,
   "metadata": {},
   "outputs": [],
   "source": [
    "from time import sleep\n",
    "\n",
    "import matplotlib.pyplot as plt\n",
    "import numpy as np\n",
    "\n",
    "# example 1\n",
    "\n",
    "dynacool.temperature_rate(0.1)\n",
    "dynacool.temperature_setpoint(dynacool.temperature() - 1.3)\n",
    "\n",
    "temps = []\n",
    "\n",
    "while dynacool.temperature_state() == 'tracking':\n",
    "    temp = dynacool.temperature()\n",
    "    temps.append(temp)\n",
    "    sleep(0.75)\n",
    "    print(f'Temperature is now {temp} K')"
   ]
  },
  {
   "cell_type": "code",
   "execution_count": null,
   "metadata": {},
   "outputs": [],
   "source": [
    "plt.figure()\n",
    "timeax = np.linspace(0, len(temps)*0.2, len(temps))\n",
    "plt.plot(timeax, temps, '-o')\n",
    "plt.xlabel('Time (s)')\n",
    "plt.ylabel('Temperature (K)')"
   ]
  },
  {
   "cell_type": "markdown",
   "metadata": {},
   "source": [
    "## Field Control\n",
    "\n",
    "The field has **five** related parameters:\n",
    "\n",
    "- `field_measured`: The (read-only) field strength right now.\n",
    "- `field_target`: The target field that the `ramp` method will ramp to when called. Setting this parameter does **not** trigger a ramp\n",
    "- `field_rate`: The field ramp rate with initial value of `0`.\n",
    "- `field_approach`: The approach that the system should use to ramp. By default it is set to `linear`.\n",
    "- `field_ramp`: This is a convenience parameter that sets the target field and then triggers a blocking ramp.\n",
    "\n",
    "The idea is that the user first sets the `field_target` and then ramps the field to that target using the `ramp` method. The ramp method takes a `mode` argument that controls whether the ramp is blocking or non-blocking. \n",
    "\n",
    "Using the simulation software, the field change is instanteneous irrespective of rate. We nevertheless include two examples of ramping here."
   ]
  },
  {
   "cell_type": "markdown",
   "metadata": {},
   "source": [
    "### A blocking ramp"
   ]
  },
  {
   "cell_type": "markdown",
   "metadata": {},
   "source": [
    "First, we set a field target:"
   ]
  },
  {
   "cell_type": "code",
   "execution_count": null,
   "metadata": {},
   "outputs": [],
   "source": [
    "field_now = dynacool.field_measured()\n",
    "target = field_now + 1\n",
    "dynacool.field_target(target)"
   ]
  },
  {
   "cell_type": "markdown",
   "metadata": {},
   "source": [
    "Note that the field has not changed yet:"
   ]
  },
  {
   "cell_type": "code",
   "execution_count": null,
   "metadata": {},
   "outputs": [],
   "source": [
    "assert dynacool.field_measured() == field_now"
   ]
  },
  {
   "cell_type": "markdown",
   "metadata": {},
   "source": [
    "And now we ramp:"
   ]
  },
  {
   "cell_type": "code",
   "execution_count": null,
   "metadata": {},
   "outputs": [],
   "source": [
    "dynacool.ramp(mode='blocking')"
   ]
  },
  {
   "cell_type": "markdown",
   "metadata": {},
   "source": [
    "The ramping will take some finite time on a real instrument. The field value is now at the target field:"
   ]
  },
  {
   "cell_type": "code",
   "execution_count": null,
   "metadata": {},
   "outputs": [],
   "source": [
    "print(f'Field value: {dynacool.field_measured()} T')\n",
    "print(f'Field target: {dynacool.field_target()} T')"
   ]
  },
  {
   "cell_type": "markdown",
   "metadata": {},
   "source": [
    "### A non-blocking ramp\n",
    "\n",
    "The non-blocking ramp is very similar to the the blocking ramp."
   ]
  },
  {
   "cell_type": "code",
   "execution_count": null,
   "metadata": {},
   "outputs": [],
   "source": [
    "field_now = dynacool.field_measured()\n",
    "target = field_now - 0.5\n",
    "dynacool.field_target(target)\n",
    "\n",
    "assert dynacool.field_measured() == field_now\n",
    "\n",
    "dynacool.ramp(mode='non-blocking')\n",
    "# Here you can do stuff while the magnet ramps\n",
    "\n",
    "print(f'Field value: {dynacool.field_measured()} T')\n",
    "print(f'Field target: {dynacool.field_target()} T')"
   ]
  },
  {
   "cell_type": "markdown",
   "metadata": {},
   "source": [
    "### Using the `field_ramp` parameter\n",
    "\n",
    "The `field_ramp` parameter sets the target field and ramp when being set."
   ]
  },
  {
   "cell_type": "code",
   "execution_count": null,
   "metadata": {},
   "outputs": [],
   "source": [
    "print(f'Now the field is {dynacool.field_measured()} T...')\n",
    "print(f'...and the field target is {dynacool.field_target()} T.')"
   ]
  },
  {
   "cell_type": "code",
   "execution_count": null,
   "metadata": {},
   "outputs": [],
   "source": [
    "dynacool.field_ramp(1)"
   ]
  },
  {
   "cell_type": "code",
   "execution_count": null,
   "metadata": {},
   "outputs": [],
   "source": [
    "print(f'Now the field is {dynacool.field_measured()} T...')\n",
    "print(f'...and the field target is {dynacool.field_target()} T.')"
   ]
  },
  {
   "cell_type": "code",
   "execution_count": null,
   "metadata": {},
   "outputs": [],
   "source": []
  }
 ],
 "metadata": {
  "kernelspec": {
   "display_name": "Python 3 (ipykernel)",
   "language": "python",
   "name": "python3"
  },
  "language_info": {
   "codemirror_mode": {
    "name": "ipython",
    "version": 3
   },
   "file_extension": ".py",
   "mimetype": "text/x-python",
   "name": "python",
   "nbconvert_exporter": "python",
   "pygments_lexer": "ipython3",
   "version": "3.9.13"
  },
  "nbsphinx": {
   "execute": "never"
  }
 },
 "nbformat": 4,
 "nbformat_minor": 4
}
