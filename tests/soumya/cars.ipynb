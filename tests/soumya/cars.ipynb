{
 "cells": [
  {
   "cell_type": "code",
   "execution_count": 19,
   "metadata": {},
   "outputs": [],
   "source": [
    "#Car is the class and it will have different \"Car\" objects\n",
    "class Car:\n",
    "    \n",
    "    # __init__ is the constructor and it uses the parameters/attributes- make,model,year,color to define each different \"car\" object\n",
    "    def __init__(self,make,model,year,color):\n",
    "        self.make= make\n",
    "        self.model= model\n",
    "        self.year= year\n",
    "        self.color= color\n",
    "    \n",
    "    #The following are different methods \"drive\" and \"stop\" which corresponds to different actions.\n",
    "    def drive(self):\n",
    "        print(\"This car is driving\")\n",
    "    \n",
    "    def stop(self):\n",
    "        print(\"This car is stopped\")\n",
    "\n",
    "    def speedup(self):\n",
    "        print(\"This \"+self.model+\" is speeding up\")  \n",
    "\n",
    "    def slowdown(self):\n",
    "        print(\"This \"+self.model+\" is slowing down\")  "
   ]
  },
  {
   "cell_type": "code",
   "execution_count": 20,
   "metadata": {},
   "outputs": [
    {
     "name": "stdout",
     "output_type": "stream",
     "text": [
      "Chevy\n",
      "2021\n",
      "Sclass\n",
      "Black\n"
     ]
    }
   ],
   "source": [
    "\n",
    "\n",
    "Car_1 = Car(\"Chevy\",\"Corvette\",\"2021\",\"Blue\")\n",
    "Car_2 = Car(\"Mercedes\",\"Sclass\",\"2022\",\"Black\")\n",
    "print(Car_1.make)\n",
    "print(Car_1.year)\n",
    "print(Car_2.model)\n",
    "print(Car_2.color)"
   ]
  },
  {
   "cell_type": "code",
   "execution_count": 21,
   "metadata": {},
   "outputs": [
    {
     "name": "stdout",
     "output_type": "stream",
     "text": [
      "This car is stopped\n"
     ]
    }
   ],
   "source": [
    "Car_1.stop()"
   ]
  },
  {
   "cell_type": "code",
   "execution_count": 22,
   "metadata": {},
   "outputs": [
    {
     "name": "stdout",
     "output_type": "stream",
     "text": [
      "This car is driving\n"
     ]
    }
   ],
   "source": [
    "Car_1.drive()"
   ]
  },
  {
   "cell_type": "code",
   "execution_count": 23,
   "metadata": {},
   "outputs": [
    {
     "name": "stdout",
     "output_type": "stream",
     "text": [
      "This Sclass is speeding up\n"
     ]
    }
   ],
   "source": [
    "Car_2.speedup()"
   ]
  }
 ],
 "metadata": {
  "kernelspec": {
   "display_name": ".venv",
   "language": "python",
   "name": "python3"
  },
  "language_info": {
   "codemirror_mode": {
    "name": "ipython",
    "version": 3
   },
   "file_extension": ".py",
   "mimetype": "text/x-python",
   "name": "python",
   "nbconvert_exporter": "python",
   "pygments_lexer": "ipython3",
   "version": "3.11.9"
  }
 },
 "nbformat": 4,
 "nbformat_minor": 2
}
